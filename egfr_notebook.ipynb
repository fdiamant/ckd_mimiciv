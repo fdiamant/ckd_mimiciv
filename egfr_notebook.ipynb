{
 "cells": [
  {
   "cell_type": "code",
   "execution_count": 1,
   "id": "437350a7-1529-4f22-9eab-3fa3dd93603c",
   "metadata": {},
   "outputs": [],
   "source": [
    "import pandas as pd\n",
    "import matplotlib.pyplot as plt\n",
    "import numpy as np\n",
    "import seaborn as sns"
   ]
  },
  {
   "cell_type": "markdown",
   "id": "b50d7446-fe7f-4905-86e5-bb7601e8e74a",
   "metadata": {},
   "source": [
    "***"
   ]
  },
  {
   "cell_type": "markdown",
   "id": "992d7d4f-4ec9-431a-871b-61d61ce90f38",
   "metadata": {},
   "source": [
    " ### Step 1: Loading and Preprocessing the Data\n",
    "---\n",
    "Read the CSV file and save it in a temporary dataframe.    \n",
    "To further safeguard patient privacy, the data has been subjected to extra deidentification prior to importing."
   ]
  },
  {
   "cell_type": "code",
   "execution_count": 2,
   "id": "58546e64-ff80-4f2e-94d8-35376e9e7d0c",
   "metadata": {},
   "outputs": [],
   "source": [
    "temp_df = pd.read_csv(\"~/Desktop/mimiciv_project/egfr_deidentified.csv\")"
   ]
  },
  {
   "cell_type": "markdown",
   "id": "95e7cde1-70dc-4376-a5a5-71c8a8e53729",
   "metadata": {
    "tags": []
   },
   "source": [
    "### Renaming Columns and Setting Index\n",
    "---\n",
    "* Rename the column \"Unnamed: 0\" to \"instance\" in the temporary dataframe.\n",
    "* Set the \"instance\" column as the index of the dataframe.\n",
    "* Remove the index name to improve clarity.\n",
    "* Create a new dataframe, \"df,\" as a copy of the temporary dataframe."
   ]
  },
  {
   "cell_type": "code",
   "execution_count": 3,
   "id": "ac682257-eedc-4b61-8cc7-a08ab608d88e",
   "metadata": {},
   "outputs": [],
   "source": [
    "temp_df.rename(columns={\"Unnamed: 0\": \"instance\"}, inplace = True)\n",
    "temp_df.set_index('instance', inplace = True)\n",
    "temp_df.index.name = None\n",
    "df = temp_df.copy()"
   ]
  },
  {
   "cell_type": "markdown",
   "id": "dcf722f2-1ab7-4f69-a4cc-851e7f59e173",
   "metadata": {},
   "source": [
    "\n",
    "### Displaying DataFrame Information\n",
    "---\n",
    "This next code snippet provides various insights and information about the DataFrame:    \n",
    "\n",
    "* Displaying the First Five Lines:    \n",
    "    The first five lines of the dataframe are printed.\n",
    "   \n",
    "* Displaying DataFrame Columns:    \n",
    "    The names of the columns in the dataframe are printed.\n",
    "   \n",
    "* Displaying Column Data Types:    \n",
    "    The data types of the columns in the dataframe are printed.\n",
    "   \n",
    "* Displaying DataFrame Shape:    \n",
    "    The number of rows and columns in the dataframe are printed.\n",
    "   \n",
    "* Displaying Summary Statistics:    \n",
    "    Summary statistics for the numerical columns in the dataframe are printed, rounded to two decimal places.\n",
    "   \n",
    "* Displaying Gender Distribution:    \n",
    "    The distribution of genders in the dataframe is printed as a percentage, rounded to five decimal places.    \n",
    "\n",
    "These lines of code help provide an overview of the dataframe's content, structure, and statistical information."
   ]
  },
  {
   "cell_type": "code",
   "execution_count": 4,
   "id": "989e8ac2-9d2c-4902-b0de-6d629c99f006",
   "metadata": {},
   "outputs": [
    {
     "name": "stdout",
     "output_type": "stream",
     "text": [
      "\u001b[1mThe first five lines are:\u001b[0m\n",
      "\n",
      "         gender        age  serum_creatinine\n",
      "31084037      M  83.886161               0.4\n",
      "31318874      M  70.337792               0.8\n",
      "31456588      F  70.218365               2.0\n",
      "31468360      F  74.144543               0.7\n",
      "31572939      M  58.215661               2.0\n",
      "\n",
      "\u001b[1mThe DataFrame columns are:\u001b[0m\n",
      "\n",
      "Index(['gender', 'age', 'serum_creatinine'], dtype='object')\n",
      "\n",
      "\u001b[1mThe column data types are:\u001b[0m\n",
      "\n",
      "gender               object\n",
      "age                 float64\n",
      "serum_creatinine    float64\n",
      "dtype: object\n",
      "\n",
      "\u001b[1mThe dataframe has\u001b[0m 1892649 \u001b[1mlines and\u001b[0m 3 \u001b[1mcolumns\u001b[0m\n",
      "\n",
      "\u001b[1mThe summary statistics for the numerical columns are:\u001b[0m\n",
      "\n",
      "              age  serum_creatinine\n",
      "count  1892649.00        1891927.00\n",
      "mean        64.53              1.43\n",
      "std         16.68              1.53\n",
      "min         18.00              0.00\n",
      "25%         54.28              0.70\n",
      "50%         65.96              0.90\n",
      "75%         77.01              1.50\n",
      "max        103.15             80.00\n",
      "\n",
      "\u001b[1mThe gender distribution is:\u001b[0m\n",
      "\n",
      "M    53.159%\n",
      "F    46.841%\n",
      "Name: gender, dtype: object\n",
      "\n"
     ]
    }
   ],
   "source": [
    "print(f\"\\033[1mThe first five lines are:\\033[0m\\n\\n{df.head()}\\n\")\n",
    "print(f\"\\033[1mThe DataFrame columns are:\\033[0m\\n\\n{df.columns}\\n\")\n",
    "print(f\"\\033[1mThe column data types are:\\033[0m\\n\\n{df.dtypes}\\n\")\n",
    "print(f\"\\033[1mThe dataframe has\\033[0m {df.shape[0]} \\033[1mlines and\\033[0m {df.shape[1]} \\033[1mcolumns\\033[0m\\n\")\n",
    "print(f\"\\033[1mThe summary statistics for the numerical columns are:\\033[0m\\n\\n{df.describe().round(2)}\\n\")\n",
    "print(f\"\\033[1mThe gender distribution is:\\033[0m\\n\\n{(df['gender'].value_counts(normalize=True).round(5) * 100).apply(lambda x: f'{x}%')}\\n\")"
   ]
  },
  {
   "cell_type": "markdown",
   "id": "56d33062-ac5a-439a-9827-2d2135d4c128",
   "metadata": {},
   "source": [
    "---"
   ]
  },
  {
   "cell_type": "markdown",
   "id": "aa106e85-cea7-4c60-8792-fcde6c393ea6",
   "metadata": {},
   "source": [
    "### Calculating Missing and Duplicate Values\n",
    "---\n",
    "This code snippet calculates and displays the following information about the dataframe:\n",
    "\n",
    "* Calculating Percentage of Missing Values:    \n",
    "    The percentage of missing values in each column is calculated and rounded to three decimal places.\n",
    "   \n",
    "* Calculating Percentage of Duplicate Values:    \n",
    "    The percentage of duplicate rows based on specific columns ('gender', 'age', and 'serum_creatinine') is calculated and rounded to two decimal places. Since the egfr equation uses the gender, age, and Scr as factors, there is no point keeping multiple indexes where the gender, age, and Scr factors are equal respectivelly.\n",
    "\n",
    "These lines of code provide insights into the presence of missing values and duplicates within the dataframe."
   ]
  },
  {
   "cell_type": "code",
   "execution_count": 5,
   "id": "95d6a62c-4276-45e0-b9de-3e86e15e27b5",
   "metadata": {},
   "outputs": [
    {
     "name": "stdout",
     "output_type": "stream",
     "text": [
      "\u001b[1mThe percentage of missing values is:\u001b[0m\n",
      "\n",
      "gender                0.0%\n",
      "age                   0.0%\n",
      "serum_creatinine    0.038%\n",
      "dtype: object\n",
      "\n",
      "\u001b[1mThe percentage of duplicate values is:\u001b[0m\n",
      "\n",
      "49.62%\n"
     ]
    }
   ],
   "source": [
    "missing_values_percentage = (df.isnull().mean()*100).round(3).apply(lambda x: f'{x}%')\n",
    "duplicates_count = (df.duplicated(subset=['gender', 'age', 'serum_creatinine']).mean()*100).round(2)\n",
    "\n",
    "print(f\"\\033[1mThe percentage of missing values is:\\033[0m\\n\\n{missing_values_percentage}\\n\")\n",
    "print(f\"\\033[1mThe percentage of duplicate values is:\\033[0m\\n\\n{duplicates_count}%\")"
   ]
  },
  {
   "cell_type": "markdown",
   "id": "9832893c-22fb-40c5-8c19-d4f13df83337",
   "metadata": {},
   "source": [
    "### Counting Rows with Serum Creatinine Equal to 0\n",
    "----------------------------------------------------\n",
    "This code snippet counts the number of rows in the dataframe where the 'serum_creatinine' column has a value of 0.    \n",
    "The egfr equation contains this part $\\min\\left( \\frac{standardized\\ Scr}{a},\\ 1 \\right)^{- 0.241}$.    \n",
    "Thus in case of Scr equal to 0 we would need to raise 0 in a negative number (-0.241) which throws a ZeroDivisionError.\n",
    " \n",
    "* Counting Rows with Serum Creatinine Equal to 0:    \n",
    "    Rows in the dataframe where the 'serum_creatinine' column is equal to 0 are counted.    \n",
    "    The count is stored in the variable 'creatinine_0' as a list and the calculated percentage is printed."
   ]
  },
  {
   "cell_type": "code",
   "execution_count": 6,
   "id": "3e40b7e5-b545-49e8-95b1-53eee41fe85f",
   "metadata": {},
   "outputs": [
    {
     "name": "stdout",
     "output_type": "stream",
     "text": [
      "\u001b[1mThe percentage of indexes with serum_creatinine equal to 0 are\u001b[0m 0.00571%\n"
     ]
    }
   ],
   "source": [
    "creatinine_0 = df[df['serum_creatinine'] == 0]['serum_creatinine'].value_counts().to_list()\n",
    "print(f\"\\033[1mThe percentage of indexes with serum_creatinine equal to 0 are\\033[0m {round((100*creatinine_0[0]/len(df)),5)}%\")"
   ]
  },
  {
   "cell_type": "markdown",
   "id": "30286968-07ba-4a5a-8e65-8621506f1c6f",
   "metadata": {},
   "source": [
    "### Data Cleaning Operations\n",
    "---\n",
    "This code snippet performs various data cleaning operations on the dataframe:\n",
    "\n",
    "* Removing Rows with Missing Values:    \n",
    "    Since the percentage of missing values for Scr is 0.038%, the rows containing missing values are removed from the dataframe, modifying it in-place.\n",
    "   \n",
    "* Removing Duplicate Rows:    \n",
    "    Duplicate rows based on specific columns ('gender', 'age', and 'serum_creatinine') are removed from the dataframe, modifying it in-place. As mentioned above, it would be redundant to calculate the same values more than one.\n",
    "   \n",
    "* Removing Rows with Serum Creatinine Equal to 0:\n",
    "    Rows where the 'serum_creatinine' column has a value of 0 are removed from the dataframe, creating a new modified dataframe.\n",
    "    \n",
    "These operations help ensure data quality and prepare the dataframe for further analysis."
   ]
  },
  {
   "cell_type": "code",
   "execution_count": 7,
   "id": "02be9bdc-84c3-409c-bde8-d4a61f525eaa",
   "metadata": {},
   "outputs": [],
   "source": [
    "df.dropna(inplace = True)\n",
    "df.drop_duplicates(subset=['gender', 'age', 'serum_creatinine'], inplace=True)\n",
    "df = df[df['serum_creatinine'] != 0].dropna()"
   ]
  },
  {
   "cell_type": "code",
   "execution_count": 8,
   "id": "6d00bb22-e3ef-4769-a168-42823ee3dad7",
   "metadata": {},
   "outputs": [
    {
     "name": "stdout",
     "output_type": "stream",
     "text": [
      "\u001b[1mThe dataframe has\u001b[0m 953144 \u001b[1mlines and\u001b[0m 3 \u001b[1mcolumns\u001b[0m\n",
      "\n",
      "\u001b[1mThe summary statistics for the numerical columns are:\u001b[0m\n",
      "\n",
      "             age  serum_creatinine\n",
      "count  953144.00         953144.00\n",
      "mean       64.73              1.74\n",
      "std        16.91              1.90\n",
      "min        18.00              0.10\n",
      "25%        54.15              0.80\n",
      "50%        66.18              1.10\n",
      "75%        77.54              1.80\n",
      "max       103.15             80.00\n",
      "\n",
      "\u001b[1mThe gender distribution is:\u001b[0m\n",
      "\n",
      "M    53.431%\n",
      "F    46.569%\n",
      "Name: gender, dtype: object\n",
      "\n"
     ]
    }
   ],
   "source": [
    "print(f\"\\033[1mThe dataframe has\\033[0m {df.shape[0]} \\033[1mlines and\\033[0m {df.shape[1]} \\033[1mcolumns\\033[0m\\n\")\n",
    "print(f\"\\033[1mThe summary statistics for the numerical columns are:\\033[0m\\n\\n{df.describe().round(2)}\\n\")\n",
    "print(f\"\\033[1mThe gender distribution is:\\033[0m\\n\\n{(df['gender'].value_counts(normalize=True).round(5) * 100).apply(lambda x: f'{x}%')}\\n\")"
   ]
  },
  {
   "cell_type": "code",
   "execution_count": 9,
   "id": "f16998a1-d8d9-4331-bcf1-2f743bccde68",
   "metadata": {},
   "outputs": [
    {
     "data": {
      "text/html": [
       "<style>\n",
       "  table {margin-left: 0 !important;}\n",
       "</style>\n"
      ],
      "text/plain": [
       "<IPython.core.display.HTML object>"
      ]
     },
     "metadata": {},
     "output_type": "display_data"
    }
   ],
   "source": [
    "%%html\n",
    "<style>\n",
    "  table {margin-left: 0 !important;}\n",
    "</style>"
   ]
  },
  {
   "cell_type": "markdown",
   "id": "a8bf0d38-5be2-4484-9746-fd5d31b0d124",
   "metadata": {
    "tags": []
   },
   "source": [
    "### DataFrames comparison\n",
    "\n",
    "Comparing the original DataFrame with the DataFrame obtained after performing cleaning operations, it is obvious that no major change has happened in either the gender distribution, or the statistical characteristics of the DataFrames (see the table below). On the other hand the blood sample count (indexes) has been reduced by almost 50% (from 1,892,649 to 953,144).\n",
    "\n",
    "|           |               |   **Dataframe**  |             |                  |\n",
    "| :-------- | :------------ | :--------------- | :---------- | :--------------- |\n",
    "|           | **Original**  |                  | **Cleaned** |                  |\n",
    "| **M**     | 53.159%       |                  | 53.431%     |                  |\n",
    "| **F**     | 46.841%       |                  | 46.569%     |                  |\n",
    "|           |               |                  |             |                  |\n",
    "|           | age           | serum_creatinine | age         | serum_creatinine |\n",
    "| **count** | 1.892.649     | 1.891.927        | 953.144     | 953144.00        |\n",
    "| **mean**  | 64.53         | 1.43             | 64.73       | 1.74             |\n",
    "| **std**   | 16.68         | 1.53             | 16.91       | 1.90             |\n",
    "| **min**   | 18.00         | 0.00             | 18.00       | 0.10             |\n",
    "| **25%**   | 54.28         | 0.70             | 54.15       | 0.80             |\n",
    "| **50%**   | 65.96         | 0.90             | 66.18       | 1.10             |\n",
    "| **75%**   | 77.01         | 1.50             | 77.54       | 1.80             |\n",
    "| **max**   | 103.15        | 80.00            | 103.15      | 80.00            |"
   ]
  },
  {
   "cell_type": "markdown",
   "id": "ef63a380-2c81-4925-a851-7d02eced014a",
   "metadata": {},
   "source": [
    "### eGFR Calculation\n",
    "***\n",
    "\n",
    "The CKD-EPI(2021) eGFR equation differentiates depending on the patient gender. Based on the CKD-EPI(2021) equation from [kidney.org](https://www.kidney.org/professionals/kdoqi/gfr_calculator/formula) the gender specific equations are:    \n",
    "\n",
    "$eGFR\\_ female = 142*\\min\\left( \\frac{standardized\\ Scr}{0.7},\\ 1 \\right)^{- 0.241}*{\\max\\left( \\frac{standardized\\ Scr}{0.7},\\ 1 \\right)}^{- 1.2}*{0.9938}^{age}*1.012$    \n",
    "\n",
    "  \n",
    "\n",
    "$eGFR\\_ male = 142*\\min\\left( \\frac{standardized\\ Scr}{0.9},\\ 1 \\right)^{- 0.302}*{\\max\\left( \\frac{standardized\\ Scr}{0.9},\\ 1 \\right)}^{- 1.2}*{0.9938}^{age}$    \n",
    "\n",
    "---\n",
    "This code snippet defines two functions to calculate the estimated glomerular filtration rate (eGFR) based on age and serum creatinine levels. The calculated eGFR is rounded to two decimal places and returned as the result:\n",
    "\n",
    "* Equation for Females: egfr_f(age,s_cr).\n",
    "* Equation for Males: egfr_m(age,s_cr).    \n",
    "\n",
    "Where:    \n",
    "**age** represents the age of the individual    \n",
    "**s_cr** denotes the serum creatinine level"
   ]
  },
  {
   "cell_type": "code",
   "execution_count": 10,
   "id": "1855d220-5010-4658-a21b-ce31a159495f",
   "metadata": {},
   "outputs": [],
   "source": [
    "# For females\n",
    "def egfr_f(age,s_cr):\n",
    "    result = round(142 * pow(min((s_cr/0.7),1), -0.241) * pow(max((s_cr/0.7),1),-1.2) * pow(0.9938, age) * 1.012 , 2)\n",
    "    return result\n",
    "\n",
    "# For males\n",
    "def egfr_m(age,s_cr):\n",
    "    result = round(142 * pow(min((s_cr/0.9),1), -0.302) * pow(max((s_cr/0.9),1),-1.2) * pow(0.9938, age) , 2)\n",
    "    return result"
   ]
  },
  {
   "cell_type": "markdown",
   "id": "d301da38-ceab-4dbc-9ccd-ffe23373d29d",
   "metadata": {},
   "source": [
    "### Calculating eGFR for Each Row\n",
    "---    \n",
    "This code snippet calculates the estimated glomerular filtration rate (eGFR) for each row in the dataframe based on gender-specific equations and the values of 'age' and 'serum_creatinine' columns.\n",
    "\n",
    "1. Applying eGFR Calculation:\n",
    "   - The `apply()` function is used to iterate over each row in the dataframe and calculate the eGFR.\n",
    "   - For females (gender == 'F'), the `egfr_f()` function is applied with the 'age' and 'serum_creatinine' values from the current row.\n",
    "   - For males (gender != 'F'), the `egfr_m()` function is applied with the 'age' and 'serum_creatinine' values from the current row.\n",
    "\n",
    "2. Creating 'egfr' Column:\n",
    "   - The calculated eGFR values are assigned to a new column named 'egfr' in the dataframe."
   ]
  },
  {
   "cell_type": "code",
   "execution_count": 13,
   "id": "27beecb0-3bd6-4ff2-96ac-dddd4115c0e2",
   "metadata": {},
   "outputs": [],
   "source": [
    "df['egfr'] = df.apply(lambda row: egfr_f(row['age'], row['serum_creatinine']) if row['gender'] == 'F' else egfr_m(row['age'], row['serum_creatinine']), axis=1)"
   ]
  },
  {
   "cell_type": "code",
   "execution_count": 14,
   "id": "122517e7-993d-4641-9227-14a630b11fa9",
   "metadata": {
    "tags": []
   },
   "outputs": [
    {
     "data": {
      "text/html": [
       "<div>\n",
       "<style scoped>\n",
       "    .dataframe tbody tr th:only-of-type {\n",
       "        vertical-align: middle;\n",
       "    }\n",
       "\n",
       "    .dataframe tbody tr th {\n",
       "        vertical-align: top;\n",
       "    }\n",
       "\n",
       "    .dataframe thead th {\n",
       "        text-align: right;\n",
       "    }\n",
       "</style>\n",
       "<table border=\"1\" class=\"dataframe\">\n",
       "  <thead>\n",
       "    <tr style=\"text-align: right;\">\n",
       "      <th></th>\n",
       "      <th>gender</th>\n",
       "      <th>age</th>\n",
       "      <th>serum_creatinine</th>\n",
       "      <th>egfr</th>\n",
       "    </tr>\n",
       "  </thead>\n",
       "  <tbody>\n",
       "    <tr>\n",
       "      <th>31084037</th>\n",
       "      <td>M</td>\n",
       "      <td>83.886161</td>\n",
       "      <td>0.4</td>\n",
       "      <td>107.66</td>\n",
       "    </tr>\n",
       "    <tr>\n",
       "      <th>31318874</th>\n",
       "      <td>M</td>\n",
       "      <td>70.337792</td>\n",
       "      <td>0.8</td>\n",
       "      <td>95.01</td>\n",
       "    </tr>\n",
       "    <tr>\n",
       "      <th>31456588</th>\n",
       "      <td>F</td>\n",
       "      <td>70.218365</td>\n",
       "      <td>2.0</td>\n",
       "      <td>26.34</td>\n",
       "    </tr>\n",
       "    <tr>\n",
       "      <th>31468360</th>\n",
       "      <td>F</td>\n",
       "      <td>74.144543</td>\n",
       "      <td>0.7</td>\n",
       "      <td>90.62</td>\n",
       "    </tr>\n",
       "    <tr>\n",
       "      <th>31572939</th>\n",
       "      <td>M</td>\n",
       "      <td>58.215661</td>\n",
       "      <td>2.0</td>\n",
       "      <td>37.92</td>\n",
       "    </tr>\n",
       "  </tbody>\n",
       "</table>\n",
       "</div>"
      ],
      "text/plain": [
       "         gender        age  serum_creatinine    egfr\n",
       "31084037      M  83.886161               0.4  107.66\n",
       "31318874      M  70.337792               0.8   95.01\n",
       "31456588      F  70.218365               2.0   26.34\n",
       "31468360      F  74.144543               0.7   90.62\n",
       "31572939      M  58.215661               2.0   37.92"
      ]
     },
     "execution_count": 14,
     "metadata": {},
     "output_type": "execute_result"
    }
   ],
   "source": [
    "df.head()"
   ]
  },
  {
   "cell_type": "code",
   "execution_count": null,
   "id": "a02ec9ec-e164-4a9b-875e-c1fbda628734",
   "metadata": {},
   "outputs": [],
   "source": []
  }
 ],
 "metadata": {
  "kernelspec": {
   "display_name": "Python 3 (ipykernel)",
   "language": "python",
   "name": "python3"
  },
  "language_info": {
   "codemirror_mode": {
    "name": "ipython",
    "version": 3
   },
   "file_extension": ".py",
   "mimetype": "text/x-python",
   "name": "python",
   "nbconvert_exporter": "python",
   "pygments_lexer": "ipython3",
   "version": "3.10.11"
  },
  "toc-showcode": true
 },
 "nbformat": 4,
 "nbformat_minor": 5
}
